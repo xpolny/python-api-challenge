{
 "cells": [
  {
   "cell_type": "markdown",
   "metadata": {},
   "source": [
    "# VacationPy\n",
    "----\n",
    "\n",
    "#### Note\n",
    "* Instructions have been included for each segment. You do not have to follow them exactly, but they are included to help you think through the steps."
   ]
  },
  {
   "cell_type": "code",
   "execution_count": 2,
   "metadata": {},
   "outputs": [],
   "source": [
    "# Dependencies and Setup\n",
    "import matplotlib.pyplot as plt\n",
    "import pandas as pd\n",
    "import numpy as np\n",
    "import requests\n",
    "import gmaps\n",
    "import os\n",
    "\n",
    "# Import API key\n",
    "from api_keys import g_key\n"
   ]
  },
  {
   "cell_type": "markdown",
   "metadata": {},
   "source": [
    "### Store Part I results into DataFrame\n",
    "* Load the csv exported in Part I to a DataFrame"
   ]
  },
  {
   "cell_type": "code",
   "execution_count": 3,
   "metadata": {},
   "outputs": [
    {
     "data": {
      "text/html": [
       "<div>\n",
       "<style scoped>\n",
       "    .dataframe tbody tr th:only-of-type {\n",
       "        vertical-align: middle;\n",
       "    }\n",
       "\n",
       "    .dataframe tbody tr th {\n",
       "        vertical-align: top;\n",
       "    }\n",
       "\n",
       "    .dataframe thead th {\n",
       "        text-align: right;\n",
       "    }\n",
       "</style>\n",
       "<table border=\"1\" class=\"dataframe\">\n",
       "  <thead>\n",
       "    <tr style=\"text-align: right;\">\n",
       "      <th></th>\n",
       "      <th>Unnamed: 0</th>\n",
       "      <th>City</th>\n",
       "      <th>Latitude</th>\n",
       "      <th>Longitude</th>\n",
       "      <th>Max Temp</th>\n",
       "      <th>Humidity</th>\n",
       "      <th>Cloudiness</th>\n",
       "      <th>Wind Speed</th>\n",
       "      <th>Country</th>\n",
       "      <th>Date</th>\n",
       "    </tr>\n",
       "  </thead>\n",
       "  <tbody>\n",
       "    <tr>\n",
       "      <th>0</th>\n",
       "      <td>0</td>\n",
       "      <td>Lagoa</td>\n",
       "      <td>37.1363</td>\n",
       "      <td>-8.4541</td>\n",
       "      <td>66.80</td>\n",
       "      <td>68</td>\n",
       "      <td>0</td>\n",
       "      <td>8.03</td>\n",
       "      <td>PT</td>\n",
       "      <td>1569736800</td>\n",
       "    </tr>\n",
       "    <tr>\n",
       "      <th>1</th>\n",
       "      <td>1</td>\n",
       "      <td>Rikitea</td>\n",
       "      <td>-23.1203</td>\n",
       "      <td>-134.9692</td>\n",
       "      <td>71.66</td>\n",
       "      <td>86</td>\n",
       "      <td>6</td>\n",
       "      <td>10.51</td>\n",
       "      <td>PF</td>\n",
       "      <td>1569736800</td>\n",
       "    </tr>\n",
       "    <tr>\n",
       "      <th>2</th>\n",
       "      <td>2</td>\n",
       "      <td>Albany</td>\n",
       "      <td>42.6512</td>\n",
       "      <td>-73.7550</td>\n",
       "      <td>64.40</td>\n",
       "      <td>95</td>\n",
       "      <td>88</td>\n",
       "      <td>4.76</td>\n",
       "      <td>US</td>\n",
       "      <td>1569736800</td>\n",
       "    </tr>\n",
       "    <tr>\n",
       "      <th>3</th>\n",
       "      <td>3</td>\n",
       "      <td>Esperance</td>\n",
       "      <td>-33.8583</td>\n",
       "      <td>121.8932</td>\n",
       "      <td>62.44</td>\n",
       "      <td>87</td>\n",
       "      <td>37</td>\n",
       "      <td>18.97</td>\n",
       "      <td>AU</td>\n",
       "      <td>1569736800</td>\n",
       "    </tr>\n",
       "    <tr>\n",
       "      <th>4</th>\n",
       "      <td>4</td>\n",
       "      <td>Faanui</td>\n",
       "      <td>-16.4834</td>\n",
       "      <td>-151.7500</td>\n",
       "      <td>78.16</td>\n",
       "      <td>84</td>\n",
       "      <td>19</td>\n",
       "      <td>20.13</td>\n",
       "      <td>PF</td>\n",
       "      <td>1569736800</td>\n",
       "    </tr>\n",
       "  </tbody>\n",
       "</table>\n",
       "</div>"
      ],
      "text/plain": [
       "   Unnamed: 0       City  Latitude  Longitude  Max Temp  Humidity  Cloudiness  \\\n",
       "0           0      Lagoa   37.1363    -8.4541     66.80        68           0   \n",
       "1           1    Rikitea  -23.1203  -134.9692     71.66        86           6   \n",
       "2           2     Albany   42.6512   -73.7550     64.40        95          88   \n",
       "3           3  Esperance  -33.8583   121.8932     62.44        87          37   \n",
       "4           4     Faanui  -16.4834  -151.7500     78.16        84          19   \n",
       "\n",
       "   Wind Speed Country        Date  \n",
       "0        8.03      PT  1569736800  \n",
       "1       10.51      PF  1569736800  \n",
       "2        4.76      US  1569736800  \n",
       "3       18.97      AU  1569736800  \n",
       "4       20.13      PF  1569736800  "
      ]
     },
     "execution_count": 3,
     "metadata": {},
     "output_type": "execute_result"
    }
   ],
   "source": [
    "# Study data files\n",
    "weather_metadata = \"output_data/my_weather_data.csv\"\n",
    "\n",
    "# Read the weather data and the study results\n",
    "weather_data = pd.read_csv(weather_metadata)\n",
    "\n",
    "# Combine the data into a single dataset\n",
    "weatherdf = pd.DataFrame(weather_data)\n",
    "weatherdf.head()"
   ]
  },
  {
   "cell_type": "markdown",
   "metadata": {},
   "source": [
    "### Humidity Heatmap\n",
    "* Configure gmaps.\n",
    "* Use the Lat and Lng as locations and Humidity as the weight.\n",
    "* Add Heatmap layer to map."
   ]
  },
  {
   "cell_type": "code",
   "execution_count": 4,
   "metadata": {},
   "outputs": [],
   "source": [
    "# Configure gmaps with API key\n",
    "gmaps.configure(api_key=g_key)"
   ]
  },
  {
   "cell_type": "code",
   "execution_count": 5,
   "metadata": {},
   "outputs": [],
   "source": [
    "# Store 'Lat' and 'Lng' into  locations \n",
    "locations = weatherdf[[\"Latitude\", \"Longitude\"]].astype(float)\n",
    "\n",
    "#weatherdf = weatherdf.dropna()\n",
    "\n",
    "hum_rate = weatherdf[\"Humidity\"].astype(float)"
   ]
  },
  {
   "cell_type": "code",
   "execution_count": 31,
   "metadata": {},
   "outputs": [
    {
     "data": {
      "application/vnd.jupyter.widget-view+json": {
       "model_id": "26efed08dfe94540a57148b0a9616d16",
       "version_major": 2,
       "version_minor": 0
      },
      "text/plain": [
       "Figure(layout=FigureLayout(height='420px'))"
      ]
     },
     "metadata": {},
     "output_type": "display_data"
    },
    {
     "data": {
      "text/plain": [
       "<Figure size 432x288 with 0 Axes>"
      ]
     },
     "metadata": {},
     "output_type": "display_data"
    }
   ],
   "source": [
    "# Create a poverty Heatmap layer\n",
    "fig = gmaps.figure(center=(48.0, 0.0), zoom_level=2)\n",
    "\n",
    "heat_layer = gmaps.heatmap_layer(locations, weights=hum_rate, \n",
    "                                 dissipating=False, max_intensity=100,\n",
    "                                 point_radius = 1, opacity=1)\n",
    "\n",
    "fig.add_layer(heat_layer)\n",
    "\n",
    "plt.savefig(\"vacationheatmap.png\")\n",
    "fig\n"
   ]
  },
  {
   "cell_type": "code",
   "execution_count": null,
   "metadata": {},
   "outputs": [],
   "source": []
  },
  {
   "cell_type": "markdown",
   "metadata": {},
   "source": [
    "### Create new DataFrame fitting weather criteria\n",
    "* Narrow down the cities to fit weather conditions.\n",
    "* Drop any rows will null values."
   ]
  },
  {
   "cell_type": "code",
   "execution_count": 12,
   "metadata": {},
   "outputs": [
    {
     "data": {
      "text/html": [
       "<div>\n",
       "<style scoped>\n",
       "    .dataframe tbody tr th:only-of-type {\n",
       "        vertical-align: middle;\n",
       "    }\n",
       "\n",
       "    .dataframe tbody tr th {\n",
       "        vertical-align: top;\n",
       "    }\n",
       "\n",
       "    .dataframe thead th {\n",
       "        text-align: right;\n",
       "    }\n",
       "</style>\n",
       "<table border=\"1\" class=\"dataframe\">\n",
       "  <thead>\n",
       "    <tr style=\"text-align: right;\">\n",
       "      <th></th>\n",
       "      <th>Unnamed: 0</th>\n",
       "      <th>City</th>\n",
       "      <th>Latitude</th>\n",
       "      <th>Longitude</th>\n",
       "      <th>Max Temp</th>\n",
       "      <th>Humidity</th>\n",
       "      <th>Cloudiness</th>\n",
       "      <th>Wind Speed</th>\n",
       "      <th>Country</th>\n",
       "      <th>Date</th>\n",
       "    </tr>\n",
       "  </thead>\n",
       "  <tbody>\n",
       "    <tr>\n",
       "      <th>24</th>\n",
       "      <td>24</td>\n",
       "      <td>Byron Bay</td>\n",
       "      <td>-28.6500</td>\n",
       "      <td>153.6167</td>\n",
       "      <td>71.60</td>\n",
       "      <td>63</td>\n",
       "      <td>0</td>\n",
       "      <td>6.08</td>\n",
       "      <td>AU</td>\n",
       "      <td>1569736800</td>\n",
       "    </tr>\n",
       "    <tr>\n",
       "      <th>32</th>\n",
       "      <td>32</td>\n",
       "      <td>Busselton</td>\n",
       "      <td>-33.6445</td>\n",
       "      <td>115.3489</td>\n",
       "      <td>74.41</td>\n",
       "      <td>75</td>\n",
       "      <td>0</td>\n",
       "      <td>3.22</td>\n",
       "      <td>AU</td>\n",
       "      <td>1569736800</td>\n",
       "    </tr>\n",
       "    <tr>\n",
       "      <th>56</th>\n",
       "      <td>56</td>\n",
       "      <td>Pombia</td>\n",
       "      <td>35.0089</td>\n",
       "      <td>24.8684</td>\n",
       "      <td>75.87</td>\n",
       "      <td>50</td>\n",
       "      <td>0</td>\n",
       "      <td>7.94</td>\n",
       "      <td>GR</td>\n",
       "      <td>1569736800</td>\n",
       "    </tr>\n",
       "    <tr>\n",
       "      <th>76</th>\n",
       "      <td>76</td>\n",
       "      <td>Shahreza</td>\n",
       "      <td>32.0116</td>\n",
       "      <td>51.8652</td>\n",
       "      <td>73.13</td>\n",
       "      <td>15</td>\n",
       "      <td>0</td>\n",
       "      <td>6.53</td>\n",
       "      <td>IR</td>\n",
       "      <td>1569736800</td>\n",
       "    </tr>\n",
       "    <tr>\n",
       "      <th>103</th>\n",
       "      <td>103</td>\n",
       "      <td>Miranda</td>\n",
       "      <td>-20.2402</td>\n",
       "      <td>-56.3845</td>\n",
       "      <td>75.46</td>\n",
       "      <td>49</td>\n",
       "      <td>0</td>\n",
       "      <td>5.75</td>\n",
       "      <td>BR</td>\n",
       "      <td>1569736800</td>\n",
       "    </tr>\n",
       "  </tbody>\n",
       "</table>\n",
       "</div>"
      ],
      "text/plain": [
       "     Unnamed: 0       City  Latitude  Longitude  Max Temp  Humidity  \\\n",
       "24           24  Byron Bay  -28.6500   153.6167     71.60        63   \n",
       "32           32  Busselton  -33.6445   115.3489     74.41        75   \n",
       "56           56     Pombia   35.0089    24.8684     75.87        50   \n",
       "76           76   Shahreza   32.0116    51.8652     73.13        15   \n",
       "103         103    Miranda  -20.2402   -56.3845     75.46        49   \n",
       "\n",
       "     Cloudiness  Wind Speed Country        Date  \n",
       "24            0        6.08      AU  1569736800  \n",
       "32            0        3.22      AU  1569736800  \n",
       "56            0        7.94      GR  1569736800  \n",
       "76            0        6.53      IR  1569736800  \n",
       "103           0        5.75      BR  1569736800  "
      ]
     },
     "execution_count": 12,
     "metadata": {},
     "output_type": "execute_result"
    }
   ],
   "source": [
    "#Narrow down the DataFrame to find your ideal weather condition.\n",
    "\n",
    "#A max temperature lower than 80 degrees but higher than 70.\n",
    "first = weatherdf.loc[weatherdf[\"Max Temp\"]<80,:]\n",
    "second = first.loc[weatherdf[\"Max Temp\"]>70,:]\n",
    "second.head()\n",
    "\n",
    "#Wind speed less than 10 mph.\n",
    "third = second.loc[second[\"Wind Speed\"]<10,:]\n",
    "third\n",
    "\n",
    "#Zero cloudiness.\n",
    "fourth = third.loc[third[\"Cloudiness\"]==0,:]\n",
    "fourth.head()"
   ]
  },
  {
   "cell_type": "code",
   "execution_count": null,
   "metadata": {},
   "outputs": [],
   "source": []
  },
  {
   "cell_type": "markdown",
   "metadata": {},
   "source": [
    "### Hotel Map\n",
    "* Store into variable named `hotel_df`.\n",
    "* Add a \"Hotel Name\" column to the DataFrame.\n",
    "* Set parameters to search for hotels with 5000 meters.\n",
    "* Hit the Google Places API for each city's coordinates.\n",
    "* Store the first Hotel result into the DataFrame.\n",
    "* Plot markers on top of the heatmap."
   ]
  },
  {
   "cell_type": "code",
   "execution_count": 13,
   "metadata": {},
   "outputs": [
    {
     "data": {
      "text/html": [
       "<div>\n",
       "<style scoped>\n",
       "    .dataframe tbody tr th:only-of-type {\n",
       "        vertical-align: middle;\n",
       "    }\n",
       "\n",
       "    .dataframe tbody tr th {\n",
       "        vertical-align: top;\n",
       "    }\n",
       "\n",
       "    .dataframe thead th {\n",
       "        text-align: right;\n",
       "    }\n",
       "</style>\n",
       "<table border=\"1\" class=\"dataframe\">\n",
       "  <thead>\n",
       "    <tr style=\"text-align: right;\">\n",
       "      <th></th>\n",
       "      <th>City</th>\n",
       "      <th>Country</th>\n",
       "      <th>Lat</th>\n",
       "      <th>Lng</th>\n",
       "    </tr>\n",
       "  </thead>\n",
       "  <tbody>\n",
       "    <tr>\n",
       "      <th>24</th>\n",
       "      <td>Byron Bay</td>\n",
       "      <td>AU</td>\n",
       "      <td>-28.6500</td>\n",
       "      <td>153.6167</td>\n",
       "    </tr>\n",
       "    <tr>\n",
       "      <th>32</th>\n",
       "      <td>Busselton</td>\n",
       "      <td>AU</td>\n",
       "      <td>-33.6445</td>\n",
       "      <td>115.3489</td>\n",
       "    </tr>\n",
       "    <tr>\n",
       "      <th>56</th>\n",
       "      <td>Pombia</td>\n",
       "      <td>GR</td>\n",
       "      <td>35.0089</td>\n",
       "      <td>24.8684</td>\n",
       "    </tr>\n",
       "    <tr>\n",
       "      <th>76</th>\n",
       "      <td>Shahreza</td>\n",
       "      <td>IR</td>\n",
       "      <td>32.0116</td>\n",
       "      <td>51.8652</td>\n",
       "    </tr>\n",
       "    <tr>\n",
       "      <th>103</th>\n",
       "      <td>Miranda</td>\n",
       "      <td>BR</td>\n",
       "      <td>-20.2402</td>\n",
       "      <td>-56.3845</td>\n",
       "    </tr>\n",
       "  </tbody>\n",
       "</table>\n",
       "</div>"
      ],
      "text/plain": [
       "          City Country      Lat       Lng\n",
       "24   Byron Bay      AU -28.6500  153.6167\n",
       "32   Busselton      AU -33.6445  115.3489\n",
       "56      Pombia      GR  35.0089   24.8684\n",
       "76    Shahreza      IR  32.0116   51.8652\n",
       "103    Miranda      BR -20.2402  -56.3845"
      ]
     },
     "execution_count": 13,
     "metadata": {},
     "output_type": "execute_result"
    }
   ],
   "source": [
    "#Store into variable named hotel_df.\n",
    "#Add a \"Hotel Name\" column to the DataFrame.\n",
    "hotel_df = pd.DataFrame()\n",
    "fifth = pd.DataFrame(fourth)\n",
    "hotel_df['City'] = fifth['City']\n",
    "hotel_df['Country'] = fifth['Country']\n",
    "hotel_df['Lat'] = fifth['Latitude']\n",
    "hotel_df['Lng'] = fifth['Longitude']\n",
    "#hotel_df['Hotel Name'] = \"\"\n",
    "hotel_df.head()"
   ]
  },
  {
   "cell_type": "code",
   "execution_count": 14,
   "metadata": {},
   "outputs": [],
   "source": [
    "#without key\n",
    "#https://maps.googleapis.com/maps/api/place/textsearch/json?query=hotels&location={longitude},{latitude}&radius=5000&key={g_key}"
   ]
  },
  {
   "cell_type": "code",
   "execution_count": null,
   "metadata": {},
   "outputs": [],
   "source": []
  },
  {
   "cell_type": "code",
   "execution_count": 15,
   "metadata": {},
   "outputs": [
    {
     "name": "stdout",
     "output_type": "stream",
     "text": [
      "Retrieving Results for Index 24: Byron Bay.\n",
      "Closest hotel to Byron Bay at -28.65 , 153.6167 is Bay Motel.\n",
      "------------\n",
      "Retrieving Results for Index 32: Busselton.\n",
      "Closest hotel to Busselton at -33.6445 , 115.3489 is Sojourn on Gale.\n",
      "------------\n",
      "Retrieving Results for Index 56: Pombia.\n",
      "Closest hotel to Pombia at 35.0089 , 24.8684 is Rigakis, El. & M., O.E..\n",
      "------------\n",
      "Retrieving Results for Index 76: Shahreza.\n",
      "Closest hotel to Shahreza at 32.0116 , 51.8652 is Almas System(Shahreza).\n",
      "------------\n",
      "Retrieving Results for Index 103: Miranda.\n",
      "Closest hotel to Miranda at -20.2402 , -56.3845 is Câmara Municipal de Miranda.\n",
      "------------\n",
      "Retrieving Results for Index 226: Avera.\n",
      "Closest hotel to Avera at 33.194 , -82.5271 is Avera Volunteer Fire Department.\n",
      "------------\n",
      "Retrieving Results for Index 245: Bako.\n",
      "Missing field/result... skipping.\n",
      "------------\n",
      "Retrieving Results for Index 264: Morondava.\n",
      "Closest hotel to Morondava at -20.2954 , 44.2798 is Madawatt Morondava.\n",
      "------------\n",
      "Retrieving Results for Index 268: Cayenne.\n",
      "Closest hotel to Cayenne at 4.9371 , -52.3259 is Appartements Standings à Cayenne.\n",
      "------------\n",
      "Retrieving Results for Index 282: Santa Ana.\n",
      "Closest hotel to Santa Ana at 30.5437 , -111.1213 is Comisión Nacional del Agua Conagua.\n",
      "------------\n",
      "Retrieving Results for Index 330: Villamontes.\n",
      "Closest hotel to Villamontes at -21.2587 , -63.4727 is Cyber Center.\n",
      "------------\n",
      "Retrieving Results for Index 343: Bulawayo.\n",
      "Closest hotel to Bulawayo at -20.1561 , 28.5887 is Private house.\n",
      "------------\n",
      "Retrieving Results for Index 348: Bardsir.\n",
      "Closest hotel to Bardsir at 29.9284 , 56.5717 is اداره برق شهرستان بردسیر.\n",
      "------------\n",
      "Retrieving Results for Index 365: Uruzgan.\n",
      "Missing field/result... skipping.\n",
      "------------\n",
      "Retrieving Results for Index 375: Vrangel.\n",
      "Closest hotel to Vrangel at 42.7297 , 133.0839 is Nakhodkinskaya Tamozhnya, Tamozhennyy Post \"Morskoy Port \"Vostochnyy\".\n",
      "------------\n",
      "Retrieving Results for Index 444: Mitu.\n",
      "Missing field/result... skipping.\n",
      "------------\n",
      "Retrieving Results for Index 496: Santiago del Estero.\n",
      "Closest hotel to Santiago del Estero at -27.7952 , -64.2615 is Hotel Boutique Santiago.\n",
      "------------\n",
      "Retrieving Results for Index 527: Tiznit.\n",
      "Closest hotel to Tiznit at 29.6986 , -9.7313 is Kerdous.\n",
      "------------\n"
     ]
    }
   ],
   "source": [
    "# use iterrows to iterate through pandas dataframe\n",
    "for index, row in hotel_df.iterrows():\n",
    "\n",
    "    # get restaurant type from df\n",
    "    latitude = row['Lat']\n",
    "    longitude = row['Lng']\n",
    "    city = row['City']\n",
    "    country = row['Country']\n",
    "\n",
    "    # assemble url and make API request\n",
    "    print(f\"Retrieving Results for Index {index}: {city}.\")\n",
    "    response = requests.get(f\"https://maps.googleapis.com/maps/api/place/textsearch/json?location={latitude},{longitude}&radius=5000&type=hotel&key={g_key}\").json()\n",
    "    \n",
    "    # extract results\n",
    "    results = response['results']\n",
    "    \n",
    "    try:\n",
    "        hotelname = response['results'][7]['name']\n",
    "        print(f\"Closest hotel to {city} at {latitude} , {longitude} is {hotelname}.\")\n",
    "        \n",
    "        hotel_df.loc[index, \"Hotel Name\"] = hotelname\n",
    "        \n",
    "    except (KeyError, IndexError):\n",
    "        print(\"Missing field/result... skipping.\")\n",
    "        \n",
    "    print(\"------------\")"
   ]
  },
  {
   "cell_type": "code",
   "execution_count": 16,
   "metadata": {},
   "outputs": [
    {
     "data": {
      "text/html": [
       "<div>\n",
       "<style scoped>\n",
       "    .dataframe tbody tr th:only-of-type {\n",
       "        vertical-align: middle;\n",
       "    }\n",
       "\n",
       "    .dataframe tbody tr th {\n",
       "        vertical-align: top;\n",
       "    }\n",
       "\n",
       "    .dataframe thead th {\n",
       "        text-align: right;\n",
       "    }\n",
       "</style>\n",
       "<table border=\"1\" class=\"dataframe\">\n",
       "  <thead>\n",
       "    <tr style=\"text-align: right;\">\n",
       "      <th></th>\n",
       "      <th>City</th>\n",
       "      <th>Country</th>\n",
       "      <th>Lat</th>\n",
       "      <th>Lng</th>\n",
       "      <th>Hotel Name</th>\n",
       "    </tr>\n",
       "  </thead>\n",
       "  <tbody>\n",
       "    <tr>\n",
       "      <th>24</th>\n",
       "      <td>Byron Bay</td>\n",
       "      <td>AU</td>\n",
       "      <td>-28.6500</td>\n",
       "      <td>153.6167</td>\n",
       "      <td>Bay Motel</td>\n",
       "    </tr>\n",
       "    <tr>\n",
       "      <th>32</th>\n",
       "      <td>Busselton</td>\n",
       "      <td>AU</td>\n",
       "      <td>-33.6445</td>\n",
       "      <td>115.3489</td>\n",
       "      <td>Sojourn on Gale</td>\n",
       "    </tr>\n",
       "    <tr>\n",
       "      <th>56</th>\n",
       "      <td>Pombia</td>\n",
       "      <td>GR</td>\n",
       "      <td>35.0089</td>\n",
       "      <td>24.8684</td>\n",
       "      <td>Rigakis, El. &amp; M., O.E.</td>\n",
       "    </tr>\n",
       "    <tr>\n",
       "      <th>76</th>\n",
       "      <td>Shahreza</td>\n",
       "      <td>IR</td>\n",
       "      <td>32.0116</td>\n",
       "      <td>51.8652</td>\n",
       "      <td>Almas System(Shahreza)</td>\n",
       "    </tr>\n",
       "    <tr>\n",
       "      <th>103</th>\n",
       "      <td>Miranda</td>\n",
       "      <td>BR</td>\n",
       "      <td>-20.2402</td>\n",
       "      <td>-56.3845</td>\n",
       "      <td>Câmara Municipal de Miranda</td>\n",
       "    </tr>\n",
       "  </tbody>\n",
       "</table>\n",
       "</div>"
      ],
      "text/plain": [
       "          City Country      Lat       Lng                   Hotel Name\n",
       "24   Byron Bay      AU -28.6500  153.6167                    Bay Motel\n",
       "32   Busselton      AU -33.6445  115.3489              Sojourn on Gale\n",
       "56      Pombia      GR  35.0089   24.8684      Rigakis, El. & M., O.E.\n",
       "76    Shahreza      IR  32.0116   51.8652       Almas System(Shahreza)\n",
       "103    Miranda      BR -20.2402  -56.3845  Câmara Municipal de Miranda"
      ]
     },
     "execution_count": 16,
     "metadata": {},
     "output_type": "execute_result"
    }
   ],
   "source": [
    "hotel_df.head()"
   ]
  },
  {
   "cell_type": "code",
   "execution_count": null,
   "metadata": {},
   "outputs": [],
   "source": []
  },
  {
   "cell_type": "code",
   "execution_count": null,
   "metadata": {},
   "outputs": [],
   "source": []
  },
  {
   "cell_type": "code",
   "execution_count": 17,
   "metadata": {},
   "outputs": [],
   "source": [
    "# NOTE: Do not change any of the code in this cell\n",
    "\n",
    "# Using the template add the hotel marks to the heatmap\n",
    "info_box_template = \"\"\"\n",
    "<dl>\n",
    "<dt>Name</dt><dd>{Hotel Name}</dd>\n",
    "<dt>City</dt><dd>{City}</dd>\n",
    "<dt>Country</dt><dd>{Country}</dd>\n",
    "</dl>\n",
    "\"\"\"\n",
    "# Store the DataFrame Row\n",
    "# NOTE: be sure to update with your DataFrame name\n",
    "hotel_info = [info_box_template.format(**row) for index, row in hotel_df.iterrows()]\n",
    "locations2 = hotel_df[[\"Lat\", \"Lng\"]]"
   ]
  },
  {
   "cell_type": "code",
   "execution_count": 18,
   "metadata": {},
   "outputs": [],
   "source": []
  },
  {
   "cell_type": "code",
   "execution_count": 30,
   "metadata": {},
   "outputs": [
    {
     "data": {
      "application/vnd.jupyter.widget-view+json": {
       "model_id": "545424c246a64afea8fea06ba4f1e250",
       "version_major": 2,
       "version_minor": 0
      },
      "text/plain": [
       "Figure(layout=FigureLayout(height='420px'))"
      ]
     },
     "metadata": {},
     "output_type": "display_data"
    },
    {
     "data": {
      "text/plain": [
       "<Figure size 432x288 with 0 Axes>"
      ]
     },
     "metadata": {},
     "output_type": "display_data"
    }
   ],
   "source": [
    "\n",
    "fig = gmaps.figure(center=(48.0, 0.0), zoom_level=2)\n",
    "\n",
    "heat_layer = gmaps.heatmap_layer(locations, weights=hum_rate, \n",
    "                                 dissipating=False, max_intensity=100,\n",
    "                                 point_radius = 1, opacity=1)\n",
    "\n",
    "marker_layer = gmaps.marker_layer(locations2, hover_text='', label='', info_box_content=hotel_info)\n",
    "\n",
    "fig.add_layer(heat_layer)\n",
    "fig.add_layer(marker_layer)\n",
    "plt.savefig(\"vacationheatmapwithhotels.png\")\n",
    "\n",
    "fig\n"
   ]
  },
  {
   "cell_type": "code",
   "execution_count": null,
   "metadata": {},
   "outputs": [],
   "source": []
  }
 ],
 "metadata": {
  "kernelspec": {
   "display_name": "Python 3 (ipykernel)",
   "language": "python",
   "name": "python3"
  },
  "language_info": {
   "codemirror_mode": {
    "name": "ipython",
    "version": 3
   },
   "file_extension": ".py",
   "mimetype": "text/x-python",
   "name": "python",
   "nbconvert_exporter": "python",
   "pygments_lexer": "ipython3",
   "version": "3.9.7"
  },
  "latex_envs": {
   "LaTeX_envs_menu_present": true,
   "autoclose": false,
   "autocomplete": true,
   "bibliofile": "biblio.bib",
   "cite_by": "apalike",
   "current_citInitial": 1,
   "eqLabelWithNumbers": true,
   "eqNumInitial": 1,
   "hotkeys": {
    "equation": "Ctrl-E",
    "itemize": "Ctrl-I"
   },
   "labels_anchors": false,
   "latex_user_defs": false,
   "report_style_numbering": false,
   "user_envs_cfg": false
  }
 },
 "nbformat": 4,
 "nbformat_minor": 2
}
